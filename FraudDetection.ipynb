{
 "cells": [
  {
   "cell_type": "markdown",
   "id": "b9cf26e8",
   "metadata": {},
   "source": [
    "# Credit Card Fraud Detection"
   ]
  },
  {
   "cell_type": "markdown",
   "id": "8ec6d4ad",
   "metadata": {},
   "source": [
    "Import needed packages"
   ]
  },
  {
   "cell_type": "code",
   "execution_count": 1,
   "id": "60b76922",
   "metadata": {},
   "outputs": [],
   "source": [
    "import pandas as pd\n",
    "import numpy as np\n",
    "import matplotlib.pyplot as plt\n",
    "import seaborn as sns\n",
    "from sklearn.model_selection import train_test_split\n",
    "from imblearn.over_sampling import SMOTE"
   ]
  },
  {
   "cell_type": "markdown",
   "id": "fda86da4",
   "metadata": {},
   "source": [
    "Import the data as a dataframe"
   ]
  },
  {
   "cell_type": "code",
   "execution_count": 2,
   "id": "50cc3afc",
   "metadata": {},
   "outputs": [],
   "source": [
    "df_data = pd.read_csv('creditcard.csv')"
   ]
  },
  {
   "cell_type": "markdown",
   "id": "44e4f5c6",
   "metadata": {},
   "source": [
    "Look at the first five rows of the data:"
   ]
  },
  {
   "cell_type": "code",
   "execution_count": 3,
   "id": "ec211c3f",
   "metadata": {},
   "outputs": [
    {
     "data": {
      "text/html": [
       "<div>\n",
       "<style scoped>\n",
       "    .dataframe tbody tr th:only-of-type {\n",
       "        vertical-align: middle;\n",
       "    }\n",
       "\n",
       "    .dataframe tbody tr th {\n",
       "        vertical-align: top;\n",
       "    }\n",
       "\n",
       "    .dataframe thead th {\n",
       "        text-align: right;\n",
       "    }\n",
       "</style>\n",
       "<table border=\"1\" class=\"dataframe\">\n",
       "  <thead>\n",
       "    <tr style=\"text-align: right;\">\n",
       "      <th></th>\n",
       "      <th>Time</th>\n",
       "      <th>V1</th>\n",
       "      <th>V2</th>\n",
       "      <th>V3</th>\n",
       "      <th>V4</th>\n",
       "      <th>V5</th>\n",
       "      <th>V6</th>\n",
       "      <th>V7</th>\n",
       "      <th>V8</th>\n",
       "      <th>V9</th>\n",
       "      <th>...</th>\n",
       "      <th>V21</th>\n",
       "      <th>V22</th>\n",
       "      <th>V23</th>\n",
       "      <th>V24</th>\n",
       "      <th>V25</th>\n",
       "      <th>V26</th>\n",
       "      <th>V27</th>\n",
       "      <th>V28</th>\n",
       "      <th>Amount</th>\n",
       "      <th>Class</th>\n",
       "    </tr>\n",
       "  </thead>\n",
       "  <tbody>\n",
       "    <tr>\n",
       "      <th>0</th>\n",
       "      <td>0.0</td>\n",
       "      <td>-1.359807</td>\n",
       "      <td>-0.072781</td>\n",
       "      <td>2.536347</td>\n",
       "      <td>1.378155</td>\n",
       "      <td>-0.338321</td>\n",
       "      <td>0.462388</td>\n",
       "      <td>0.239599</td>\n",
       "      <td>0.098698</td>\n",
       "      <td>0.363787</td>\n",
       "      <td>...</td>\n",
       "      <td>-0.018307</td>\n",
       "      <td>0.277838</td>\n",
       "      <td>-0.110474</td>\n",
       "      <td>0.066928</td>\n",
       "      <td>0.128539</td>\n",
       "      <td>-0.189115</td>\n",
       "      <td>0.133558</td>\n",
       "      <td>-0.021053</td>\n",
       "      <td>149.62</td>\n",
       "      <td>0</td>\n",
       "    </tr>\n",
       "    <tr>\n",
       "      <th>1</th>\n",
       "      <td>0.0</td>\n",
       "      <td>1.191857</td>\n",
       "      <td>0.266151</td>\n",
       "      <td>0.166480</td>\n",
       "      <td>0.448154</td>\n",
       "      <td>0.060018</td>\n",
       "      <td>-0.082361</td>\n",
       "      <td>-0.078803</td>\n",
       "      <td>0.085102</td>\n",
       "      <td>-0.255425</td>\n",
       "      <td>...</td>\n",
       "      <td>-0.225775</td>\n",
       "      <td>-0.638672</td>\n",
       "      <td>0.101288</td>\n",
       "      <td>-0.339846</td>\n",
       "      <td>0.167170</td>\n",
       "      <td>0.125895</td>\n",
       "      <td>-0.008983</td>\n",
       "      <td>0.014724</td>\n",
       "      <td>2.69</td>\n",
       "      <td>0</td>\n",
       "    </tr>\n",
       "    <tr>\n",
       "      <th>2</th>\n",
       "      <td>1.0</td>\n",
       "      <td>-1.358354</td>\n",
       "      <td>-1.340163</td>\n",
       "      <td>1.773209</td>\n",
       "      <td>0.379780</td>\n",
       "      <td>-0.503198</td>\n",
       "      <td>1.800499</td>\n",
       "      <td>0.791461</td>\n",
       "      <td>0.247676</td>\n",
       "      <td>-1.514654</td>\n",
       "      <td>...</td>\n",
       "      <td>0.247998</td>\n",
       "      <td>0.771679</td>\n",
       "      <td>0.909412</td>\n",
       "      <td>-0.689281</td>\n",
       "      <td>-0.327642</td>\n",
       "      <td>-0.139097</td>\n",
       "      <td>-0.055353</td>\n",
       "      <td>-0.059752</td>\n",
       "      <td>378.66</td>\n",
       "      <td>0</td>\n",
       "    </tr>\n",
       "    <tr>\n",
       "      <th>3</th>\n",
       "      <td>1.0</td>\n",
       "      <td>-0.966272</td>\n",
       "      <td>-0.185226</td>\n",
       "      <td>1.792993</td>\n",
       "      <td>-0.863291</td>\n",
       "      <td>-0.010309</td>\n",
       "      <td>1.247203</td>\n",
       "      <td>0.237609</td>\n",
       "      <td>0.377436</td>\n",
       "      <td>-1.387024</td>\n",
       "      <td>...</td>\n",
       "      <td>-0.108300</td>\n",
       "      <td>0.005274</td>\n",
       "      <td>-0.190321</td>\n",
       "      <td>-1.175575</td>\n",
       "      <td>0.647376</td>\n",
       "      <td>-0.221929</td>\n",
       "      <td>0.062723</td>\n",
       "      <td>0.061458</td>\n",
       "      <td>123.50</td>\n",
       "      <td>0</td>\n",
       "    </tr>\n",
       "    <tr>\n",
       "      <th>4</th>\n",
       "      <td>2.0</td>\n",
       "      <td>-1.158233</td>\n",
       "      <td>0.877737</td>\n",
       "      <td>1.548718</td>\n",
       "      <td>0.403034</td>\n",
       "      <td>-0.407193</td>\n",
       "      <td>0.095921</td>\n",
       "      <td>0.592941</td>\n",
       "      <td>-0.270533</td>\n",
       "      <td>0.817739</td>\n",
       "      <td>...</td>\n",
       "      <td>-0.009431</td>\n",
       "      <td>0.798278</td>\n",
       "      <td>-0.137458</td>\n",
       "      <td>0.141267</td>\n",
       "      <td>-0.206010</td>\n",
       "      <td>0.502292</td>\n",
       "      <td>0.219422</td>\n",
       "      <td>0.215153</td>\n",
       "      <td>69.99</td>\n",
       "      <td>0</td>\n",
       "    </tr>\n",
       "  </tbody>\n",
       "</table>\n",
       "<p>5 rows × 31 columns</p>\n",
       "</div>"
      ],
      "text/plain": [
       "   Time        V1        V2        V3        V4        V5        V6        V7  \\\n",
       "0   0.0 -1.359807 -0.072781  2.536347  1.378155 -0.338321  0.462388  0.239599   \n",
       "1   0.0  1.191857  0.266151  0.166480  0.448154  0.060018 -0.082361 -0.078803   \n",
       "2   1.0 -1.358354 -1.340163  1.773209  0.379780 -0.503198  1.800499  0.791461   \n",
       "3   1.0 -0.966272 -0.185226  1.792993 -0.863291 -0.010309  1.247203  0.237609   \n",
       "4   2.0 -1.158233  0.877737  1.548718  0.403034 -0.407193  0.095921  0.592941   \n",
       "\n",
       "         V8        V9  ...       V21       V22       V23       V24       V25  \\\n",
       "0  0.098698  0.363787  ... -0.018307  0.277838 -0.110474  0.066928  0.128539   \n",
       "1  0.085102 -0.255425  ... -0.225775 -0.638672  0.101288 -0.339846  0.167170   \n",
       "2  0.247676 -1.514654  ...  0.247998  0.771679  0.909412 -0.689281 -0.327642   \n",
       "3  0.377436 -1.387024  ... -0.108300  0.005274 -0.190321 -1.175575  0.647376   \n",
       "4 -0.270533  0.817739  ... -0.009431  0.798278 -0.137458  0.141267 -0.206010   \n",
       "\n",
       "        V26       V27       V28  Amount  Class  \n",
       "0 -0.189115  0.133558 -0.021053  149.62      0  \n",
       "1  0.125895 -0.008983  0.014724    2.69      0  \n",
       "2 -0.139097 -0.055353 -0.059752  378.66      0  \n",
       "3 -0.221929  0.062723  0.061458  123.50      0  \n",
       "4  0.502292  0.219422  0.215153   69.99      0  \n",
       "\n",
       "[5 rows x 31 columns]"
      ]
     },
     "execution_count": 3,
     "metadata": {},
     "output_type": "execute_result"
    }
   ],
   "source": [
    "df_data.head()"
   ]
  },
  {
   "cell_type": "markdown",
   "id": "3dd10803",
   "metadata": {},
   "source": [
    "Obtain statistical information for the data features:"
   ]
  },
  {
   "cell_type": "code",
   "execution_count": 4,
   "id": "35703ce9",
   "metadata": {},
   "outputs": [
    {
     "data": {
      "text/html": [
       "<div>\n",
       "<style scoped>\n",
       "    .dataframe tbody tr th:only-of-type {\n",
       "        vertical-align: middle;\n",
       "    }\n",
       "\n",
       "    .dataframe tbody tr th {\n",
       "        vertical-align: top;\n",
       "    }\n",
       "\n",
       "    .dataframe thead th {\n",
       "        text-align: right;\n",
       "    }\n",
       "</style>\n",
       "<table border=\"1\" class=\"dataframe\">\n",
       "  <thead>\n",
       "    <tr style=\"text-align: right;\">\n",
       "      <th></th>\n",
       "      <th>count</th>\n",
       "      <th>mean</th>\n",
       "      <th>std</th>\n",
       "      <th>min</th>\n",
       "      <th>25%</th>\n",
       "      <th>50%</th>\n",
       "      <th>75%</th>\n",
       "      <th>max</th>\n",
       "    </tr>\n",
       "  </thead>\n",
       "  <tbody>\n",
       "    <tr>\n",
       "      <th>Time</th>\n",
       "      <td>284807.0</td>\n",
       "      <td>9.481386e+04</td>\n",
       "      <td>47488.145955</td>\n",
       "      <td>0.000000</td>\n",
       "      <td>54201.500000</td>\n",
       "      <td>84692.000000</td>\n",
       "      <td>139320.500000</td>\n",
       "      <td>172792.000000</td>\n",
       "    </tr>\n",
       "    <tr>\n",
       "      <th>V1</th>\n",
       "      <td>284807.0</td>\n",
       "      <td>3.918649e-15</td>\n",
       "      <td>1.958696</td>\n",
       "      <td>-56.407510</td>\n",
       "      <td>-0.920373</td>\n",
       "      <td>0.018109</td>\n",
       "      <td>1.315642</td>\n",
       "      <td>2.454930</td>\n",
       "    </tr>\n",
       "    <tr>\n",
       "      <th>V2</th>\n",
       "      <td>284807.0</td>\n",
       "      <td>5.682686e-16</td>\n",
       "      <td>1.651309</td>\n",
       "      <td>-72.715728</td>\n",
       "      <td>-0.598550</td>\n",
       "      <td>0.065486</td>\n",
       "      <td>0.803724</td>\n",
       "      <td>22.057729</td>\n",
       "    </tr>\n",
       "    <tr>\n",
       "      <th>V3</th>\n",
       "      <td>284807.0</td>\n",
       "      <td>-8.761736e-15</td>\n",
       "      <td>1.516255</td>\n",
       "      <td>-48.325589</td>\n",
       "      <td>-0.890365</td>\n",
       "      <td>0.179846</td>\n",
       "      <td>1.027196</td>\n",
       "      <td>9.382558</td>\n",
       "    </tr>\n",
       "    <tr>\n",
       "      <th>V4</th>\n",
       "      <td>284807.0</td>\n",
       "      <td>2.811118e-15</td>\n",
       "      <td>1.415869</td>\n",
       "      <td>-5.683171</td>\n",
       "      <td>-0.848640</td>\n",
       "      <td>-0.019847</td>\n",
       "      <td>0.743341</td>\n",
       "      <td>16.875344</td>\n",
       "    </tr>\n",
       "    <tr>\n",
       "      <th>V5</th>\n",
       "      <td>284807.0</td>\n",
       "      <td>-1.552103e-15</td>\n",
       "      <td>1.380247</td>\n",
       "      <td>-113.743307</td>\n",
       "      <td>-0.691597</td>\n",
       "      <td>-0.054336</td>\n",
       "      <td>0.611926</td>\n",
       "      <td>34.801666</td>\n",
       "    </tr>\n",
       "    <tr>\n",
       "      <th>V6</th>\n",
       "      <td>284807.0</td>\n",
       "      <td>2.040130e-15</td>\n",
       "      <td>1.332271</td>\n",
       "      <td>-26.160506</td>\n",
       "      <td>-0.768296</td>\n",
       "      <td>-0.274187</td>\n",
       "      <td>0.398565</td>\n",
       "      <td>73.301626</td>\n",
       "    </tr>\n",
       "    <tr>\n",
       "      <th>V7</th>\n",
       "      <td>284807.0</td>\n",
       "      <td>-1.698953e-15</td>\n",
       "      <td>1.237094</td>\n",
       "      <td>-43.557242</td>\n",
       "      <td>-0.554076</td>\n",
       "      <td>0.040103</td>\n",
       "      <td>0.570436</td>\n",
       "      <td>120.589494</td>\n",
       "    </tr>\n",
       "    <tr>\n",
       "      <th>V8</th>\n",
       "      <td>284807.0</td>\n",
       "      <td>-1.893285e-16</td>\n",
       "      <td>1.194353</td>\n",
       "      <td>-73.216718</td>\n",
       "      <td>-0.208630</td>\n",
       "      <td>0.022358</td>\n",
       "      <td>0.327346</td>\n",
       "      <td>20.007208</td>\n",
       "    </tr>\n",
       "    <tr>\n",
       "      <th>V9</th>\n",
       "      <td>284807.0</td>\n",
       "      <td>-3.147640e-15</td>\n",
       "      <td>1.098632</td>\n",
       "      <td>-13.434066</td>\n",
       "      <td>-0.643098</td>\n",
       "      <td>-0.051429</td>\n",
       "      <td>0.597139</td>\n",
       "      <td>15.594995</td>\n",
       "    </tr>\n",
       "    <tr>\n",
       "      <th>V10</th>\n",
       "      <td>284807.0</td>\n",
       "      <td>1.772925e-15</td>\n",
       "      <td>1.088850</td>\n",
       "      <td>-24.588262</td>\n",
       "      <td>-0.535426</td>\n",
       "      <td>-0.092917</td>\n",
       "      <td>0.453923</td>\n",
       "      <td>23.745136</td>\n",
       "    </tr>\n",
       "    <tr>\n",
       "      <th>V11</th>\n",
       "      <td>284807.0</td>\n",
       "      <td>9.289524e-16</td>\n",
       "      <td>1.020713</td>\n",
       "      <td>-4.797473</td>\n",
       "      <td>-0.762494</td>\n",
       "      <td>-0.032757</td>\n",
       "      <td>0.739593</td>\n",
       "      <td>12.018913</td>\n",
       "    </tr>\n",
       "    <tr>\n",
       "      <th>V12</th>\n",
       "      <td>284807.0</td>\n",
       "      <td>-1.803266e-15</td>\n",
       "      <td>0.999201</td>\n",
       "      <td>-18.683715</td>\n",
       "      <td>-0.405571</td>\n",
       "      <td>0.140033</td>\n",
       "      <td>0.618238</td>\n",
       "      <td>7.848392</td>\n",
       "    </tr>\n",
       "    <tr>\n",
       "      <th>V13</th>\n",
       "      <td>284807.0</td>\n",
       "      <td>1.674888e-15</td>\n",
       "      <td>0.995274</td>\n",
       "      <td>-5.791881</td>\n",
       "      <td>-0.648539</td>\n",
       "      <td>-0.013568</td>\n",
       "      <td>0.662505</td>\n",
       "      <td>7.126883</td>\n",
       "    </tr>\n",
       "    <tr>\n",
       "      <th>V14</th>\n",
       "      <td>284807.0</td>\n",
       "      <td>1.475621e-15</td>\n",
       "      <td>0.958596</td>\n",
       "      <td>-19.214325</td>\n",
       "      <td>-0.425574</td>\n",
       "      <td>0.050601</td>\n",
       "      <td>0.493150</td>\n",
       "      <td>10.526766</td>\n",
       "    </tr>\n",
       "    <tr>\n",
       "      <th>V15</th>\n",
       "      <td>284807.0</td>\n",
       "      <td>3.501098e-15</td>\n",
       "      <td>0.915316</td>\n",
       "      <td>-4.498945</td>\n",
       "      <td>-0.582884</td>\n",
       "      <td>0.048072</td>\n",
       "      <td>0.648821</td>\n",
       "      <td>8.877742</td>\n",
       "    </tr>\n",
       "    <tr>\n",
       "      <th>V16</th>\n",
       "      <td>284807.0</td>\n",
       "      <td>1.392460e-15</td>\n",
       "      <td>0.876253</td>\n",
       "      <td>-14.129855</td>\n",
       "      <td>-0.468037</td>\n",
       "      <td>0.066413</td>\n",
       "      <td>0.523296</td>\n",
       "      <td>17.315112</td>\n",
       "    </tr>\n",
       "    <tr>\n",
       "      <th>V17</th>\n",
       "      <td>284807.0</td>\n",
       "      <td>-7.466538e-16</td>\n",
       "      <td>0.849337</td>\n",
       "      <td>-25.162799</td>\n",
       "      <td>-0.483748</td>\n",
       "      <td>-0.065676</td>\n",
       "      <td>0.399675</td>\n",
       "      <td>9.253526</td>\n",
       "    </tr>\n",
       "    <tr>\n",
       "      <th>V18</th>\n",
       "      <td>284807.0</td>\n",
       "      <td>4.258754e-16</td>\n",
       "      <td>0.838176</td>\n",
       "      <td>-9.498746</td>\n",
       "      <td>-0.498850</td>\n",
       "      <td>-0.003636</td>\n",
       "      <td>0.500807</td>\n",
       "      <td>5.041069</td>\n",
       "    </tr>\n",
       "    <tr>\n",
       "      <th>V19</th>\n",
       "      <td>284807.0</td>\n",
       "      <td>9.019919e-16</td>\n",
       "      <td>0.814041</td>\n",
       "      <td>-7.213527</td>\n",
       "      <td>-0.456299</td>\n",
       "      <td>0.003735</td>\n",
       "      <td>0.458949</td>\n",
       "      <td>5.591971</td>\n",
       "    </tr>\n",
       "    <tr>\n",
       "      <th>V20</th>\n",
       "      <td>284807.0</td>\n",
       "      <td>5.126845e-16</td>\n",
       "      <td>0.770925</td>\n",
       "      <td>-54.497720</td>\n",
       "      <td>-0.211721</td>\n",
       "      <td>-0.062481</td>\n",
       "      <td>0.133041</td>\n",
       "      <td>39.420904</td>\n",
       "    </tr>\n",
       "    <tr>\n",
       "      <th>V21</th>\n",
       "      <td>284807.0</td>\n",
       "      <td>1.473120e-16</td>\n",
       "      <td>0.734524</td>\n",
       "      <td>-34.830382</td>\n",
       "      <td>-0.228395</td>\n",
       "      <td>-0.029450</td>\n",
       "      <td>0.186377</td>\n",
       "      <td>27.202839</td>\n",
       "    </tr>\n",
       "    <tr>\n",
       "      <th>V22</th>\n",
       "      <td>284807.0</td>\n",
       "      <td>8.042109e-16</td>\n",
       "      <td>0.725702</td>\n",
       "      <td>-10.933144</td>\n",
       "      <td>-0.542350</td>\n",
       "      <td>0.006782</td>\n",
       "      <td>0.528554</td>\n",
       "      <td>10.503090</td>\n",
       "    </tr>\n",
       "    <tr>\n",
       "      <th>V23</th>\n",
       "      <td>284807.0</td>\n",
       "      <td>5.282512e-16</td>\n",
       "      <td>0.624460</td>\n",
       "      <td>-44.807735</td>\n",
       "      <td>-0.161846</td>\n",
       "      <td>-0.011193</td>\n",
       "      <td>0.147642</td>\n",
       "      <td>22.528412</td>\n",
       "    </tr>\n",
       "    <tr>\n",
       "      <th>V24</th>\n",
       "      <td>284807.0</td>\n",
       "      <td>4.456271e-15</td>\n",
       "      <td>0.605647</td>\n",
       "      <td>-2.836627</td>\n",
       "      <td>-0.354586</td>\n",
       "      <td>0.040976</td>\n",
       "      <td>0.439527</td>\n",
       "      <td>4.584549</td>\n",
       "    </tr>\n",
       "    <tr>\n",
       "      <th>V25</th>\n",
       "      <td>284807.0</td>\n",
       "      <td>1.426896e-15</td>\n",
       "      <td>0.521278</td>\n",
       "      <td>-10.295397</td>\n",
       "      <td>-0.317145</td>\n",
       "      <td>0.016594</td>\n",
       "      <td>0.350716</td>\n",
       "      <td>7.519589</td>\n",
       "    </tr>\n",
       "    <tr>\n",
       "      <th>V26</th>\n",
       "      <td>284807.0</td>\n",
       "      <td>1.701640e-15</td>\n",
       "      <td>0.482227</td>\n",
       "      <td>-2.604551</td>\n",
       "      <td>-0.326984</td>\n",
       "      <td>-0.052139</td>\n",
       "      <td>0.240952</td>\n",
       "      <td>3.517346</td>\n",
       "    </tr>\n",
       "    <tr>\n",
       "      <th>V27</th>\n",
       "      <td>284807.0</td>\n",
       "      <td>-3.662252e-16</td>\n",
       "      <td>0.403632</td>\n",
       "      <td>-22.565679</td>\n",
       "      <td>-0.070840</td>\n",
       "      <td>0.001342</td>\n",
       "      <td>0.091045</td>\n",
       "      <td>31.612198</td>\n",
       "    </tr>\n",
       "    <tr>\n",
       "      <th>V28</th>\n",
       "      <td>284807.0</td>\n",
       "      <td>-1.217809e-16</td>\n",
       "      <td>0.330083</td>\n",
       "      <td>-15.430084</td>\n",
       "      <td>-0.052960</td>\n",
       "      <td>0.011244</td>\n",
       "      <td>0.078280</td>\n",
       "      <td>33.847808</td>\n",
       "    </tr>\n",
       "    <tr>\n",
       "      <th>Amount</th>\n",
       "      <td>284807.0</td>\n",
       "      <td>8.834962e+01</td>\n",
       "      <td>250.120109</td>\n",
       "      <td>0.000000</td>\n",
       "      <td>5.600000</td>\n",
       "      <td>22.000000</td>\n",
       "      <td>77.165000</td>\n",
       "      <td>25691.160000</td>\n",
       "    </tr>\n",
       "    <tr>\n",
       "      <th>Class</th>\n",
       "      <td>284807.0</td>\n",
       "      <td>1.727486e-03</td>\n",
       "      <td>0.041527</td>\n",
       "      <td>0.000000</td>\n",
       "      <td>0.000000</td>\n",
       "      <td>0.000000</td>\n",
       "      <td>0.000000</td>\n",
       "      <td>1.000000</td>\n",
       "    </tr>\n",
       "  </tbody>\n",
       "</table>\n",
       "</div>"
      ],
      "text/plain": [
       "           count          mean           std         min           25%  \\\n",
       "Time    284807.0  9.481386e+04  47488.145955    0.000000  54201.500000   \n",
       "V1      284807.0  3.918649e-15      1.958696  -56.407510     -0.920373   \n",
       "V2      284807.0  5.682686e-16      1.651309  -72.715728     -0.598550   \n",
       "V3      284807.0 -8.761736e-15      1.516255  -48.325589     -0.890365   \n",
       "V4      284807.0  2.811118e-15      1.415869   -5.683171     -0.848640   \n",
       "V5      284807.0 -1.552103e-15      1.380247 -113.743307     -0.691597   \n",
       "V6      284807.0  2.040130e-15      1.332271  -26.160506     -0.768296   \n",
       "V7      284807.0 -1.698953e-15      1.237094  -43.557242     -0.554076   \n",
       "V8      284807.0 -1.893285e-16      1.194353  -73.216718     -0.208630   \n",
       "V9      284807.0 -3.147640e-15      1.098632  -13.434066     -0.643098   \n",
       "V10     284807.0  1.772925e-15      1.088850  -24.588262     -0.535426   \n",
       "V11     284807.0  9.289524e-16      1.020713   -4.797473     -0.762494   \n",
       "V12     284807.0 -1.803266e-15      0.999201  -18.683715     -0.405571   \n",
       "V13     284807.0  1.674888e-15      0.995274   -5.791881     -0.648539   \n",
       "V14     284807.0  1.475621e-15      0.958596  -19.214325     -0.425574   \n",
       "V15     284807.0  3.501098e-15      0.915316   -4.498945     -0.582884   \n",
       "V16     284807.0  1.392460e-15      0.876253  -14.129855     -0.468037   \n",
       "V17     284807.0 -7.466538e-16      0.849337  -25.162799     -0.483748   \n",
       "V18     284807.0  4.258754e-16      0.838176   -9.498746     -0.498850   \n",
       "V19     284807.0  9.019919e-16      0.814041   -7.213527     -0.456299   \n",
       "V20     284807.0  5.126845e-16      0.770925  -54.497720     -0.211721   \n",
       "V21     284807.0  1.473120e-16      0.734524  -34.830382     -0.228395   \n",
       "V22     284807.0  8.042109e-16      0.725702  -10.933144     -0.542350   \n",
       "V23     284807.0  5.282512e-16      0.624460  -44.807735     -0.161846   \n",
       "V24     284807.0  4.456271e-15      0.605647   -2.836627     -0.354586   \n",
       "V25     284807.0  1.426896e-15      0.521278  -10.295397     -0.317145   \n",
       "V26     284807.0  1.701640e-15      0.482227   -2.604551     -0.326984   \n",
       "V27     284807.0 -3.662252e-16      0.403632  -22.565679     -0.070840   \n",
       "V28     284807.0 -1.217809e-16      0.330083  -15.430084     -0.052960   \n",
       "Amount  284807.0  8.834962e+01    250.120109    0.000000      5.600000   \n",
       "Class   284807.0  1.727486e-03      0.041527    0.000000      0.000000   \n",
       "\n",
       "                 50%            75%            max  \n",
       "Time    84692.000000  139320.500000  172792.000000  \n",
       "V1          0.018109       1.315642       2.454930  \n",
       "V2          0.065486       0.803724      22.057729  \n",
       "V3          0.179846       1.027196       9.382558  \n",
       "V4         -0.019847       0.743341      16.875344  \n",
       "V5         -0.054336       0.611926      34.801666  \n",
       "V6         -0.274187       0.398565      73.301626  \n",
       "V7          0.040103       0.570436     120.589494  \n",
       "V8          0.022358       0.327346      20.007208  \n",
       "V9         -0.051429       0.597139      15.594995  \n",
       "V10        -0.092917       0.453923      23.745136  \n",
       "V11        -0.032757       0.739593      12.018913  \n",
       "V12         0.140033       0.618238       7.848392  \n",
       "V13        -0.013568       0.662505       7.126883  \n",
       "V14         0.050601       0.493150      10.526766  \n",
       "V15         0.048072       0.648821       8.877742  \n",
       "V16         0.066413       0.523296      17.315112  \n",
       "V17        -0.065676       0.399675       9.253526  \n",
       "V18        -0.003636       0.500807       5.041069  \n",
       "V19         0.003735       0.458949       5.591971  \n",
       "V20        -0.062481       0.133041      39.420904  \n",
       "V21        -0.029450       0.186377      27.202839  \n",
       "V22         0.006782       0.528554      10.503090  \n",
       "V23        -0.011193       0.147642      22.528412  \n",
       "V24         0.040976       0.439527       4.584549  \n",
       "V25         0.016594       0.350716       7.519589  \n",
       "V26        -0.052139       0.240952       3.517346  \n",
       "V27         0.001342       0.091045      31.612198  \n",
       "V28         0.011244       0.078280      33.847808  \n",
       "Amount     22.000000      77.165000   25691.160000  \n",
       "Class       0.000000       0.000000       1.000000  "
      ]
     },
     "execution_count": 4,
     "metadata": {},
     "output_type": "execute_result"
    }
   ],
   "source": [
    "df_data.describe().T"
   ]
  },
  {
   "cell_type": "markdown",
   "id": "c5b6f53f",
   "metadata": {},
   "source": [
    "We can see the features above are not normalised (required min of 0 and max of 1), so we will need to normailise our data before using ML algorithms."
   ]
  },
  {
   "cell_type": "markdown",
   "id": "9ae31c0d",
   "metadata": {},
   "source": [
    "## Analyse the Data"
   ]
  },
  {
   "cell_type": "markdown",
   "id": "09a9daea",
   "metadata": {},
   "source": [
    "We will use some scatter plots to get a feel for the data and see fraudulent vs legitimate clusters.  We will also look at probability histograms for the 'Amount' and 'Time' features."
   ]
  },
  {
   "cell_type": "code",
   "execution_count": 18,
   "id": "f9443513",
   "metadata": {},
   "outputs": [
    {
     "data": {
      "text/plain": [
       "<AxesSubplot:xlabel='V1', ylabel='V2'>"
      ]
     },
     "execution_count": 18,
     "metadata": {},
     "output_type": "execute_result"
    },
    {
     "data": {
      "image/png": "[encoded data removed]",
      "text/plain": [
       "<Figure size 432x288 with 1 Axes>"
      ]
     },
     "metadata": {
      "needs_background": "light"
     },
     "output_type": "display_data"
    }
   ],
   "source": [
    "sns.scatterplot(data=df_data,x='V1',y='V2',hue='Class')"
   ]
  },
  {
   "cell_type": "code",
   "execution_count": 19,
   "id": "4760dcc7",
   "metadata": {},
   "outputs": [
    {
     "data": {
      "text/plain": [
       "<AxesSubplot:xlabel='Amount', ylabel='V20'>"
      ]
     },
     "execution_count": 19,
     "metadata": {},
     "output_type": "execute_result"
    },
    {
     "data": {
      "image/png": "[encoded data removed]",
      "text/plain": [
       "<Figure size 432x288 with 1 Axes>"
      ]
     },
     "metadata": {
      "needs_background": "light"
     },
     "output_type": "display_data"
    }
   ],
   "source": [
    "sns.scatterplot(data=df_data,x='Amount',y='V20',hue='Class')"
   ]
  },
  {
   "cell_type": "code",
   "execution_count": 20,
   "id": "49be8efd",
   "metadata": {},
   "outputs": [
    {
     "data": {
      "text/plain": [
       "<AxesSubplot:xlabel='V18', ylabel='V20'>"
      ]
     },
     "execution_count": 20,
     "metadata": {},
     "output_type": "execute_result"
    },
    {
     "data": {
      "image/png": "[encoded data removed]",
      "text/plain": [
       "<Figure size 432x288 with 1 Axes>"
      ]
     },
     "metadata": {
      "needs_background": "light"
     },
     "output_type": "display_data"
    }
   ],
   "source": [
    "sns.scatterplot(data=df_data,x='V18',y='V20',hue='Class')"
   ]
  },
  {
   "cell_type": "markdown",
   "id": "792fab43",
   "metadata": {},
   "source": [
    "The scatterplots reveal some clustered (fraud vs legitimate) behaviour for arbitrary pairing of some features."
   ]
  },
  {
   "cell_type": "code",
   "execution_count": 6,
   "id": "ca236e60",
   "metadata": {},
   "outputs": [],
   "source": [
    "#Separate real transactions from fraudulent transactions \n",
    "df_real = df_data[df_data['Class']==0]\n",
    "df_fraud = df_data[df_data['Class']==1]"
   ]
  },
  {
   "cell_type": "code",
   "execution_count": 7,
   "id": "8f1614a7",
   "metadata": {},
   "outputs": [
    {
     "data": {
      "text/plain": [
       "Text(0.5, 1.0, 'Fraudulent')"
      ]
     },
     "execution_count": 7,
     "metadata": {},
     "output_type": "execute_result"
    },
    {
     "data": {
      "image/png": "[encoded data removed]",
      "text/plain": [
       "<Figure size 1080x360 with 2 Axes>"
      ]
     },
     "metadata": {
      "needs_background": "light"
     },
     "output_type": "display_data"
    }
   ],
   "source": [
    "#Plot probability histograms for 'Time'\n",
    "fig,axs = plt.subplots(1,2,figsize=(15,5))\n",
    "sns.histplot(df_real['Time'],bins=30,ax = axs[0],stat='probability')\n",
    "sns.histplot(df_fraud['Time'],bins=30,ax = axs[1],stat='probability')\n",
    "axs[0].set_title('Legitimate')\n",
    "axs[1].set_title('Fraudulent')\n"
   ]
  },
  {
   "cell_type": "markdown",
   "id": "8f9d7fd9",
   "metadata": {},
   "source": [
    "Clearly the categories possess different distributions for 'Time'. "
   ]
  },
  {
   "cell_type": "code",
   "execution_count": 8,
   "id": "1e6cce8e",
   "metadata": {},
   "outputs": [
    {
     "data": {
      "text/plain": [
       "(0.0, 1000.0)"
      ]
     },
     "execution_count": 8,
     "metadata": {},
     "output_type": "execute_result"
    },
    {
     "data": {
      "image/png": "[encoded data removed]",
      "text/plain": [
       "<Figure size 1080x360 with 2 Axes>"
      ]
     },
     "metadata": {
      "needs_background": "light"
     },
     "output_type": "display_data"
    }
   ],
   "source": [
    "#Plot probability histograms for amount\n",
    "fig,axs = plt.subplots(1,2,figsize=(15,5))\n",
    "sns.histplot(df_real['Amount'],bins=300,ax = axs[0],stat='probability')\n",
    "sns.histplot(df_fraud['Amount'],bins=30,ax = axs[1],stat='probability')\n",
    "axs[0].set_title('Legitimate')\n",
    "axs[0].set_xlim([0,1000])\n",
    "axs[1].set_title('Fraudulent')\n",
    "axs[1].set_xlim([0,1000])"
   ]
  },
  {
   "cell_type": "markdown",
   "id": "b970bb18",
   "metadata": {},
   "source": [
    "The differences between 'Amount' for each category are more subtle by comparison. "
   ]
  },
  {
   "cell_type": "code",
   "execution_count": 9,
   "id": "1a1b9c6e",
   "metadata": {},
   "outputs": [
    {
     "data": {
      "text/plain": [
       "(-40.0, 10.0)"
      ]
     },
     "execution_count": 9,
     "metadata": {},
     "output_type": "execute_result"
    },
    {
     "data": {
      "image/png": "[encoded data removed]",
      "text/plain": [
       "<Figure size 1080x360 with 2 Axes>"
      ]
     },
     "metadata": {
      "needs_background": "light"
     },
     "output_type": "display_data"
    }
   ],
   "source": [
    "#Plot probability histograms for 'V3'\n",
    "fig,axs = plt.subplots(1,2,figsize=(15,5))\n",
    "sns.histplot(df_real['V3'],bins=30,ax = axs[0],stat='probability')\n",
    "sns.histplot(df_fraud['V3'],bins=30,ax = axs[1],stat='probability')\n",
    "axs[0].set_title('Legitimate')\n",
    "axs[1].set_title('Fraudulent')\n",
    "axs[0].set_xlim([-40,10])\n",
    "axs[1].set_xlim([-40,10])"
   ]
  },
  {
   "cell_type": "markdown",
   "id": "404f44fd",
   "metadata": {},
   "source": [
    "Again, we see a difference in the distributions for feature 'V3'."
   ]
  },
  {
   "cell_type": "markdown",
   "id": "5f2b79d2",
   "metadata": {},
   "source": [
    "## Check for Categorical Imbalance "
   ]
  },
  {
   "cell_type": "code",
   "execution_count": 10,
   "id": "479e82ef",
   "metadata": {},
   "outputs": [
    {
     "name": "stdout",
     "output_type": "stream",
     "text": [
      "Legitimate transactions is 284315,Fraudelent transactions is 492\n"
     ]
    }
   ],
   "source": [
    "#Number of legitimate transactions\n",
    "real_count = df_data['Class'].value_counts()[0]\n",
    "#Number of fraudulent transactions\n",
    "fraud_count = df_data['Class'].value_counts()[1] \n",
    "print(f'Legitimate transactions is {real_count},Fraudelent transactions is {fraud_count}')"
   ]
  },
  {
   "cell_type": "code",
   "execution_count": 11,
   "id": "9505f8ac",
   "metadata": {},
   "outputs": [
    {
     "data": {
      "text/plain": [
       "Text(0.5, 1.0, 'Categorical Frequency')"
      ]
     },
     "execution_count": 11,
     "metadata": {},
     "output_type": "execute_result"
    },
    {
     "data": {
      "image/png": "[encoded data removed]",
      "text/plain": [
       "<Figure size 432x288 with 1 Axes>"
      ]
     },
     "metadata": {
      "needs_background": "light"
     },
     "output_type": "display_data"
    }
   ],
   "source": [
    "#Plot the categorical frequencies\n",
    "plt.bar(x=['Legitimate','Fraudulent'],height=[df_data['Class'].value_counts()[0],df_data['Class'].value_counts()[1]])\n",
    "plt.title('Categorical Frequency')\n"
   ]
  },
  {
   "cell_type": "code",
   "execution_count": 12,
   "id": "96a43f3f",
   "metadata": {},
   "outputs": [
    {
     "name": "stdout",
     "output_type": "stream",
     "text": [
      "Class imbalance Fraud:Legitimate is approximately 1:578\n"
     ]
    }
   ],
   "source": [
    "ratio = round(df_data['Class'].value_counts()[0]/df_data['Class'].value_counts()[1])\n",
    "print(f'Class imbalance Fraud:Legitimate is approximately 1:{ratio}')"
   ]
  },
  {
   "cell_type": "markdown",
   "id": "5ebeed8f",
   "metadata": {},
   "source": [
    "This data set is heavily imbalanced. Techniques will need to be used to account for the difference, including resampling and consideration of categorical weights in the ML implementations. "
   ]
  },
  {
   "cell_type": "markdown",
   "id": "8af13cdf",
   "metadata": {},
   "source": [
    "## Train-Test Split"
   ]
  },
  {
   "cell_type": "code",
   "execution_count": 13,
   "id": "8e740ac4",
   "metadata": {},
   "outputs": [],
   "source": [
    "#Create separate dataframe for the labels\n",
    "labels = df_data.pop('Class')\n",
    "#train-test-split of 20% test\n",
    "X_train, X_val,y_train, y_val = train_test_split(df_data, labels, test_size=0.2,random_state=0)"
   ]
  },
  {
   "cell_type": "markdown",
   "id": "c8c7bc0e",
   "metadata": {},
   "source": [
    "## Normalise the train-val data and keep the min and max"
   ]
  },
  {
   "cell_type": "markdown",
   "id": "027a2677",
   "metadata": {},
   "source": [
    "### Get max and min"
   ]
  },
  {
   "cell_type": "code",
   "execution_count": 14,
   "id": "d111b808",
   "metadata": {},
   "outputs": [],
   "source": [
    "#Gets the max and min values for each feature\n",
    "data_max = X_train.max(axis=0)\n",
    "data_min = X_train.min(axis=0)"
   ]
  },
  {
   "cell_type": "markdown",
   "id": "360f0c30",
   "metadata": {},
   "source": [
    "### Normalise the Data"
   ]
  },
  {
   "cell_type": "code",
   "execution_count": 15,
   "id": "df6b73c6",
   "metadata": {},
   "outputs": [],
   "source": [
    "#Normalises the train and test data to range [0,1]\n",
    "X_train = (X_train-data_min)/(data_max-data_min)\n",
    "X_val = (X_val-data_min)/(data_max-data_min)"
   ]
  },
  {
   "cell_type": "markdown",
   "id": "ee22bd04",
   "metadata": {},
   "source": [
    "## Resample the Data"
   ]
  },
  {
   "cell_type": "markdown",
   "id": "f2158288",
   "metadata": {},
   "source": [
    "The large number of features should permit decent resampling of the data."
   ]
  },
  {
   "cell_type": "markdown",
   "id": "8a083c50",
   "metadata": {},
   "source": [
    "Note that we wish to avoid excessively discarding data as this contains valuable information for our classifiers.  Instead we will use a combination of under- and over-sampling."
   ]
  },
  {
   "cell_type": "code",
   "execution_count": 16,
   "id": "9b2e33f4",
   "metadata": {},
   "outputs": [],
   "source": [
    "#Undersample the Legit cases\n",
    "#Randomly sample 50% of the legitimate category to discard\n",
    "drop_samples_idx = X_train[y_train==0].sample(int(real_count*0.50),random_state=0).index\n",
    "X_train.drop(drop_samples_idx,inplace=True)\n",
    "y_train.drop(drop_samples_idx,inplace=True)"
   ]
  },
  {
   "cell_type": "code",
   "execution_count": 17,
   "id": "ef212a91",
   "metadata": {},
   "outputs": [
    {
     "data": {
      "text/plain": [
       "(85688, 30)"
      ]
     },
     "execution_count": 17,
     "metadata": {},
     "output_type": "execute_result"
    }
   ],
   "source": [
    "X_train.shape"
   ]
  },
  {
   "cell_type": "code",
   "execution_count": 18,
   "id": "d92651d9",
   "metadata": {},
   "outputs": [
    {
     "data": {
      "text/plain": [
       "(85688,)"
      ]
     },
     "execution_count": 18,
     "metadata": {},
     "output_type": "execute_result"
    }
   ],
   "source": [
    "y_train.shape"
   ]
  },
  {
   "cell_type": "markdown",
   "id": "48ad08e8",
   "metadata": {},
   "source": [
    "Now we will oversample the fraudelent category.  Excessive oversampling will increase the noise in our training dataset, so we will only target a ratio (major catgory):(minor category) of 1:0.15"
   ]
  },
  {
   "cell_type": "code",
   "execution_count": 19,
   "id": "a781bcdf",
   "metadata": {},
   "outputs": [],
   "source": [
    "from imblearn.over_sampling import SMOTE\n",
    "pos_neg_ratio = 0.15\n",
    "sm = SMOTE(sampling_strategy=pos_neg_ratio,random_state=0)\n",
    "X_res,y_res = sm.fit_resample(X_train,y_train)\n"
   ]
  },
  {
   "cell_type": "code",
   "execution_count": 20,
   "id": "308706aa",
   "metadata": {},
   "outputs": [
    {
     "data": {
      "text/plain": [
       "Text(0.5, 1.0, 'Categorical Frequency')"
      ]
     },
     "execution_count": 20,
     "metadata": {},
     "output_type": "execute_result"
    },
    {
     "data": {
      "image/png": "[encoded data removed]",
      "text/plain": [
       "<Figure size 432x288 with 1 Axes>"
      ]
     },
     "metadata": {
      "needs_background": "light"
     },
     "output_type": "display_data"
    }
   ],
   "source": [
    "#Plot resampled categorical frequencies\n",
    "plt.bar(x=['Legitimate','Fraudulent'],height=[y_res.value_counts()[0],y_res.value_counts()[1]])\n",
    "plt.title('Categorical Frequency')"
   ]
  },
  {
   "cell_type": "code",
   "execution_count": 21,
   "id": "3fed44f4",
   "metadata": {},
   "outputs": [
    {
     "name": "stdout",
     "output_type": "stream",
     "text": [
      "Fraud category has been upsampled to x7.11\n"
     ]
    }
   ],
   "source": [
    "#Compute how much the fraudulent category has been magnified\n",
    "fraud_mag = np.round(3500/fraud_count,decimals=2)\n",
    "\n",
    "print(f'Fraud category has been upsampled to x{fraud_mag}')"
   ]
  },
  {
   "cell_type": "markdown",
   "id": "c231da57",
   "metadata": {},
   "source": [
    "# Machine Learning"
   ]
  },
  {
   "cell_type": "markdown",
   "id": "4e72d992",
   "metadata": {},
   "source": [
    "## Base Performance Comparison"
   ]
  },
  {
   "cell_type": "markdown",
   "id": "3a4d1221",
   "metadata": {},
   "source": [
    "Will try:  Random Forest, SVM, XGBoost,Decision Tree, Logistic Regression, Naive Bayes"
   ]
  },
  {
   "cell_type": "markdown",
   "id": "9362b8b1",
   "metadata": {},
   "source": [
    "## Random Forest"
   ]
  },
  {
   "cell_type": "code",
   "execution_count": 22,
   "id": "7d67396d",
   "metadata": {},
   "outputs": [],
   "source": [
    "#import the classifier\n",
    "from sklearn.ensemble import RandomForestClassifier\n",
    "#import the required metrics\n",
    "from sklearn.metrics import recall_score,precision_score,f1_score,classification_report"
   ]
  },
  {
   "cell_type": "code",
   "execution_count": 23,
   "id": "2a5bd1aa",
   "metadata": {},
   "outputs": [
    {
     "data": {
      "text/plain": [
       "RandomForestClassifier(random_state=0)"
      ]
     },
     "execution_count": 23,
     "metadata": {},
     "output_type": "execute_result"
    }
   ],
   "source": [
    "#initialise and fit\n",
    "rf_model = RandomForestClassifier(random_state=0)\n",
    "rf_model.fit(X_res,y_res)"
   ]
  },
  {
   "cell_type": "code",
   "execution_count": 24,
   "id": "9f9b0d52",
   "metadata": {
    "scrolled": true
   },
   "outputs": [
    {
     "name": "stdout",
     "output_type": "stream",
     "text": [
      "Recall: 0.8613861386138614\n",
      "Precision: 0.7837837837837838\n",
      "F1: 0.8207547169811322\n"
     ]
    }
   ],
   "source": [
    "#Predict Test Labels\n",
    "y_pred = rf_model.predict(X_val)\n",
    "\n",
    "#Print the metric scores\n",
    "recall_rf = recall_score(y_val,y_pred)\n",
    "precision_rf = precision_score(y_val,y_pred)\n",
    "f1_rf = f1_score(y_val,y_pred)\n",
    "\n",
    "print(f'Recall: {recall_rf}\\nPrecision: {precision_rf}\\nF1: {f1_rf}')"
   ]
  },
  {
   "cell_type": "code",
   "execution_count": 25,
   "id": "300c63f2",
   "metadata": {},
   "outputs": [
    {
     "data": {
      "text/plain": [
       "<sklearn.metrics._plot.confusion_matrix.ConfusionMatrixDisplay at 0x218c3337ee0>"
      ]
     },
     "execution_count": 25,
     "metadata": {},
     "output_type": "execute_result"
    },
    {
     "data": {
      "image/png": "[encoded data removed]",
      "text/plain": [
       "<Figure size 432x288 with 2 Axes>"
      ]
     },
     "metadata": {
      "needs_background": "light"
     },
     "output_type": "display_data"
    }
   ],
   "source": [
    "#Import confusion matrix for performance visualisation\n",
    "from sklearn.metrics import confusion_matrix, ConfusionMatrixDisplay\n",
    "cm = confusion_matrix(y_val,y_pred)\n",
    "disp = ConfusionMatrixDisplay(cm)\n",
    "disp.plot()\n"
   ]
  },
  {
   "cell_type": "code",
   "execution_count": 26,
   "id": "3dbe11f5",
   "metadata": {},
   "outputs": [
    {
     "name": "stdout",
     "output_type": "stream",
     "text": [
      "              precision    recall  f1-score   support\n",
      "\n",
      "       Legit       1.00      1.00      1.00     56861\n",
      "       Fraud       0.78      0.86      0.82       101\n",
      "\n",
      "    accuracy                           1.00     56962\n",
      "   macro avg       0.89      0.93      0.91     56962\n",
      "weighted avg       1.00      1.00      1.00     56962\n",
      "\n"
     ]
    }
   ],
   "source": [
    "print(classification_report(y_val,y_pred,target_names=['Legit','Fraud']))"
   ]
  },
  {
   "cell_type": "markdown",
   "id": "453f274a",
   "metadata": {},
   "source": [
    "We wish to minimize false negatives, since ideally we would like to flag potential fraud cases for further investigation.  Hence, \"Recall\" is the selected metric (tp/tp+fn).  Ideally we would like to keep precision somewhat high to avoid wasting time on legitimate transactions as well."
   ]
  },
  {
   "cell_type": "markdown",
   "id": "98f88d9f",
   "metadata": {},
   "source": [
    "## SVM"
   ]
  },
  {
   "cell_type": "code",
   "execution_count": 27,
   "id": "1955b581",
   "metadata": {},
   "outputs": [
    {
     "data": {
      "text/plain": [
       "SVC()"
      ]
     },
     "execution_count": 27,
     "metadata": {},
     "output_type": "execute_result"
    }
   ],
   "source": [
    "#import and initialise the classifier \n",
    "from sklearn.svm import SVC\n",
    "svm_model = SVC()\n",
    "svm_model.fit(X_res,y_res)"
   ]
  },
  {
   "cell_type": "code",
   "execution_count": 28,
   "id": "98f42d04",
   "metadata": {},
   "outputs": [
    {
     "name": "stdout",
     "output_type": "stream",
     "text": [
      "Recall: 0.8811881188118812\n",
      "Precision: 0.52046783625731\n",
      "F1: 0.6544117647058824\n"
     ]
    }
   ],
   "source": [
    "#predict the test labels\n",
    "y_pred = svm_model.predict(X_val)\n",
    "\n",
    "#Print performance metrics\n",
    "recall_svm = recall_score(y_val,y_pred)\n",
    "precision_svm = precision_score(y_val,y_pred)\n",
    "f1_svm = f1_score(y_val,y_pred)\n",
    "\n",
    "print(f'Recall: {recall_svm}\\nPrecision: {precision_svm}\\nF1: {f1_svm}')"
   ]
  },
  {
   "cell_type": "code",
   "execution_count": 29,
   "id": "54ca785f",
   "metadata": {},
   "outputs": [
    {
     "data": {
      "text/plain": [
       "<sklearn.metrics._plot.confusion_matrix.ConfusionMatrixDisplay at 0x218c4a65940>"
      ]
     },
     "execution_count": 29,
     "metadata": {},
     "output_type": "execute_result"
    },
    {
     "data": {
      "image/png": "[encoded data removed]",
      "text/plain": [
       "<Figure size 432x288 with 2 Axes>"
      ]
     },
     "metadata": {
      "needs_background": "light"
     },
     "output_type": "display_data"
    }
   ],
   "source": [
    "#Diplay the Confusion Matrix\n",
    "cm = confusion_matrix(y_val,y_pred)\n",
    "disp = ConfusionMatrixDisplay(cm)\n",
    "disp.plot()"
   ]
  },
  {
   "cell_type": "code",
   "execution_count": 30,
   "id": "a173150b",
   "metadata": {},
   "outputs": [
    {
     "name": "stdout",
     "output_type": "stream",
     "text": [
      "              precision    recall  f1-score   support\n",
      "\n",
      "       Legit       1.00      1.00      1.00     56861\n",
      "       Fraud       0.52      0.88      0.65       101\n",
      "\n",
      "    accuracy                           1.00     56962\n",
      "   macro avg       0.76      0.94      0.83     56962\n",
      "weighted avg       1.00      1.00      1.00     56962\n",
      "\n"
     ]
    }
   ],
   "source": [
    "print(classification_report(y_val,y_pred,target_names=['Legit','Fraud']))"
   ]
  },
  {
   "cell_type": "markdown",
   "id": "a3cb27d9",
   "metadata": {},
   "source": [
    "The SVM Model has quite poor precision (leading to more false positives), but excellent recall (correctly identifying fraudulent cases)."
   ]
  },
  {
   "cell_type": "markdown",
   "id": "ef5a87d2",
   "metadata": {},
   "source": [
    "## XGBoost"
   ]
  },
  {
   "cell_type": "code",
   "execution_count": 31,
   "id": "5e73db48",
   "metadata": {},
   "outputs": [
    {
     "data": {
      "text/plain": [
       "XGBClassifier(base_score=0.5, booster='gbtree', callbacks=None,\n",
       "              colsample_bylevel=1, colsample_bynode=1, colsample_bytree=1,\n",
       "              early_stopping_rounds=None, enable_categorical=False,\n",
       "              eval_metric=None, gamma=0, gpu_id=-1, grow_policy='depthwise',\n",
       "              importance_type=None, interaction_constraints='',\n",
       "              learning_rate=0.300000012, max_bin=256, max_cat_to_onehot=4,\n",
       "              max_delta_step=0, max_depth=6, max_leaves=0, min_child_weight=1,\n",
       "              missing=nan, monotone_constraints='()', n_estimators=100,\n",
       "              n_jobs=0, num_parallel_tree=1, predictor='auto', random_state=0,\n",
       "              reg_alpha=0, reg_lambda=1, ...)"
      ]
     },
     "execution_count": 31,
     "metadata": {},
     "output_type": "execute_result"
    }
   ],
   "source": [
    "#import and fit the model \n",
    "import xgboost as xgb\n",
    "xgb_model = xgb.XGBClassifier(objective='binary:logistic')\n",
    "xgb_model.fit(X_res,y_res)"
   ]
  },
  {
   "cell_type": "code",
   "execution_count": 32,
   "id": "385e86cc",
   "metadata": {},
   "outputs": [
    {
     "name": "stdout",
     "output_type": "stream",
     "text": [
      "Recall: 0.8514851485148515\n",
      "Precision: 0.7413793103448276\n",
      "F1: 0.792626728110599\n"
     ]
    }
   ],
   "source": [
    "#predict the test labels\n",
    "y_pred = xgb_model.predict(X_val)\n",
    "\n",
    "#print performance metrics\n",
    "recall_xgb = recall_score(y_val,y_pred)\n",
    "precision_xgb = precision_score(y_val,y_pred)\n",
    "f1_xgb = f1_score(y_val,y_pred)\n",
    "\n",
    "print(f'Recall: {recall_xgb}\\nPrecision: {precision_xgb}\\nF1: {f1_xgb}')"
   ]
  },
  {
   "cell_type": "code",
   "execution_count": 33,
   "id": "18c8b101",
   "metadata": {},
   "outputs": [
    {
     "data": {
      "text/plain": [
       "<sklearn.metrics._plot.confusion_matrix.ConfusionMatrixDisplay at 0x218c4b231f0>"
      ]
     },
     "execution_count": 33,
     "metadata": {},
     "output_type": "execute_result"
    },
    {
     "data": {
      "image/png": "[encoded data removed]",
      "text/plain": [
       "<Figure size 432x288 with 2 Axes>"
      ]
     },
     "metadata": {
      "needs_background": "light"
     },
     "output_type": "display_data"
    }
   ],
   "source": [
    "#display the confusion matrix\n",
    "cm = confusion_matrix(y_val,y_pred)\n",
    "disp = ConfusionMatrixDisplay(cm)\n",
    "disp.plot()"
   ]
  },
  {
   "cell_type": "code",
   "execution_count": 34,
   "id": "24806f30",
   "metadata": {},
   "outputs": [
    {
     "name": "stdout",
     "output_type": "stream",
     "text": [
      "              precision    recall  f1-score   support\n",
      "\n",
      "       Legit       1.00      1.00      1.00     56861\n",
      "       Fraud       0.74      0.85      0.79       101\n",
      "\n",
      "    accuracy                           1.00     56962\n",
      "   macro avg       0.87      0.93      0.90     56962\n",
      "weighted avg       1.00      1.00      1.00     56962\n",
      "\n"
     ]
    }
   ],
   "source": [
    "print(classification_report(y_val,y_pred,target_names=['Legit','Fraud']))"
   ]
  },
  {
   "cell_type": "markdown",
   "id": "e407df77",
   "metadata": {},
   "source": [
    "XGBClassifier has decent base performance with high recall (85%) and good precision (74%)."
   ]
  },
  {
   "cell_type": "markdown",
   "id": "139002f7",
   "metadata": {},
   "source": [
    "## Decision Tree"
   ]
  },
  {
   "cell_type": "code",
   "execution_count": 35,
   "id": "7950ab08",
   "metadata": {},
   "outputs": [
    {
     "data": {
      "text/plain": [
       "DecisionTreeClassifier()"
      ]
     },
     "execution_count": 35,
     "metadata": {},
     "output_type": "execute_result"
    }
   ],
   "source": [
    "#import the classifier and fit \n",
    "from sklearn.tree import DecisionTreeClassifier\n",
    "DT_model = DecisionTreeClassifier()\n",
    "DT_model.fit(X_res,y_res)"
   ]
  },
  {
   "cell_type": "code",
   "execution_count": 36,
   "id": "807a7c59",
   "metadata": {},
   "outputs": [
    {
     "name": "stdout",
     "output_type": "stream",
     "text": [
      "Recall: 0.8217821782178217\n",
      "Precision: 0.259375\n",
      "F1: 0.3942992874109264\n"
     ]
    }
   ],
   "source": [
    "#predict the labels\n",
    "y_pred = DT_model.predict(X_val)\n",
    "\n",
    "#print the performance metrics\n",
    "recall_dt = recall_score(y_val,y_pred)\n",
    "precision_dt = precision_score(y_val,y_pred)\n",
    "f1_dt = f1_score(y_val,y_pred)\n",
    "\n",
    "print(f'Recall: {recall_dt}\\nPrecision: {precision_dt}\\nF1: {f1_dt}')"
   ]
  },
  {
   "cell_type": "code",
   "execution_count": 37,
   "id": "2f8e023d",
   "metadata": {},
   "outputs": [
    {
     "data": {
      "text/plain": [
       "<sklearn.metrics._plot.confusion_matrix.ConfusionMatrixDisplay at 0x218c45e1460>"
      ]
     },
     "execution_count": 37,
     "metadata": {},
     "output_type": "execute_result"
    },
    {
     "data": {
      "image/png": "[encoded data removed]",
      "text/plain": [
       "<Figure size 432x288 with 2 Axes>"
      ]
     },
     "metadata": {
      "needs_background": "light"
     },
     "output_type": "display_data"
    }
   ],
   "source": [
    "#display the confusion matrix\n",
    "cm = confusion_matrix(y_val,y_pred)\n",
    "disp = ConfusionMatrixDisplay(cm)\n",
    "disp.plot()"
   ]
  },
  {
   "cell_type": "code",
   "execution_count": 38,
   "id": "774a3837",
   "metadata": {},
   "outputs": [
    {
     "name": "stdout",
     "output_type": "stream",
     "text": [
      "              precision    recall  f1-score   support\n",
      "\n",
      "       Legit       1.00      1.00      1.00     56861\n",
      "       Fraud       0.26      0.82      0.39       101\n",
      "\n",
      "    accuracy                           1.00     56962\n",
      "   macro avg       0.63      0.91      0.70     56962\n",
      "weighted avg       1.00      1.00      1.00     56962\n",
      "\n"
     ]
    }
   ],
   "source": [
    "print(classification_report(y_val,y_pred,target_names=['Legit','Fraud']))"
   ]
  },
  {
   "cell_type": "markdown",
   "id": "128b276e",
   "metadata": {},
   "source": [
    "The Decision Tree Classifier has decent recall (82%) but poor precision (26%)."
   ]
  },
  {
   "cell_type": "markdown",
   "id": "82c3ef0c",
   "metadata": {},
   "source": [
    "## Logistic Regression"
   ]
  },
  {
   "cell_type": "code",
   "execution_count": 39,
   "id": "90cee191",
   "metadata": {},
   "outputs": [
    {
     "data": {
      "text/plain": [
       "LogisticRegression(max_iter=3000)"
      ]
     },
     "execution_count": 39,
     "metadata": {},
     "output_type": "execute_result"
    }
   ],
   "source": [
    "#import the classifier and fit\n",
    "from sklearn.linear_model import LogisticRegression\n",
    "LR_model = LogisticRegression(max_iter=3000)\n",
    "LR_model.fit(X_res,y_res)"
   ]
  },
  {
   "cell_type": "code",
   "execution_count": 40,
   "id": "45445fb9",
   "metadata": {},
   "outputs": [
    {
     "name": "stdout",
     "output_type": "stream",
     "text": [
      "Recall: 0.8712871287128713\n",
      "Precision: 0.3188405797101449\n",
      "F1: 0.4668435013262599\n"
     ]
    }
   ],
   "source": [
    "#predict test labels\n",
    "y_pred = LR_model.predict(X_val)\n",
    "\n",
    "#print the performance metrics\n",
    "recall_lr = recall_score(y_val,y_pred)\n",
    "precision_lr = precision_score(y_val,y_pred)\n",
    "f1_lr = f1_score(y_val,y_pred)\n",
    "\n",
    "print(f'Recall: {recall_lr}\\nPrecision: {precision_lr}\\nF1: {f1_lr}')"
   ]
  },
  {
   "cell_type": "code",
   "execution_count": 41,
   "id": "9d0bd0e9",
   "metadata": {},
   "outputs": [
    {
     "data": {
      "text/plain": [
       "<sklearn.metrics._plot.confusion_matrix.ConfusionMatrixDisplay at 0x218c2ce2700>"
      ]
     },
     "execution_count": 41,
     "metadata": {},
     "output_type": "execute_result"
    },
    {
     "data": {
      "image/png": "[encoded data removed]",
      "text/plain": [
       "<Figure size 432x288 with 2 Axes>"
      ]
     },
     "metadata": {
      "needs_background": "light"
     },
     "output_type": "display_data"
    }
   ],
   "source": [
    "#display the confusion matrix\n",
    "cm = confusion_matrix(y_val,y_pred)\n",
    "disp = ConfusionMatrixDisplay(cm)\n",
    "disp.plot()"
   ]
  },
  {
   "cell_type": "code",
   "execution_count": 42,
   "id": "dfb47260",
   "metadata": {},
   "outputs": [
    {
     "name": "stdout",
     "output_type": "stream",
     "text": [
      "              precision    recall  f1-score   support\n",
      "\n",
      "       Legit       1.00      1.00      1.00     56861\n",
      "       Fraud       0.32      0.87      0.47       101\n",
      "\n",
      "    accuracy                           1.00     56962\n",
      "   macro avg       0.66      0.93      0.73     56962\n",
      "weighted avg       1.00      1.00      1.00     56962\n",
      "\n"
     ]
    }
   ],
   "source": [
    "print(classification_report(y_val,y_pred,target_names=['Legit','Fraud']))"
   ]
  },
  {
   "cell_type": "markdown",
   "id": "dc4b55d5",
   "metadata": {},
   "source": [
    "Logistic Regression performs well for recall (87%), but suffers from poor precision (32%).  This classifier does outperform the Decision Tree Classifier."
   ]
  },
  {
   "cell_type": "markdown",
   "id": "9bea44e9",
   "metadata": {},
   "source": [
    "## Naive Bayes"
   ]
  },
  {
   "cell_type": "code",
   "execution_count": 43,
   "id": "5018ca1a",
   "metadata": {},
   "outputs": [
    {
     "data": {
      "text/plain": [
       "GaussianNB()"
      ]
     },
     "execution_count": 43,
     "metadata": {},
     "output_type": "execute_result"
    }
   ],
   "source": [
    "#import the classifier and fit\n",
    "from sklearn.naive_bayes import GaussianNB\n",
    "nb_model = GaussianNB()\n",
    "nb_model.fit(X_res,y_res)"
   ]
  },
  {
   "cell_type": "code",
   "execution_count": 44,
   "id": "460cf6bb",
   "metadata": {},
   "outputs": [
    {
     "name": "stdout",
     "output_type": "stream",
     "text": [
      "Recall: 0.8712871287128713\n",
      "Precision: 0.06418672501823487\n",
      "F1: 0.11956521739130437\n"
     ]
    }
   ],
   "source": [
    "#predict the test labels\n",
    "y_pred = nb_model.predict(X_val)\n",
    "\n",
    "#print performance metrics\n",
    "recall_nb = recall_score(y_val,y_pred)\n",
    "precision_nb = precision_score(y_val,y_pred)\n",
    "f1_nb = f1_score(y_val,y_pred)\n",
    "\n",
    "print(f'Recall: {recall_nb}\\nPrecision: {precision_nb}\\nF1: {f1_nb}')"
   ]
  },
  {
   "cell_type": "code",
   "execution_count": 45,
   "id": "2d6690f6",
   "metadata": {},
   "outputs": [
    {
     "data": {
      "text/plain": [
       "<sklearn.metrics._plot.confusion_matrix.ConfusionMatrixDisplay at 0x218c1ccfb50>"
      ]
     },
     "execution_count": 45,
     "metadata": {},
     "output_type": "execute_result"
    },
    {
     "data": {
      "image/png": "[encoded data removed]",
      "text/plain": [
       "<Figure size 432x288 with 2 Axes>"
      ]
     },
     "metadata": {
      "needs_background": "light"
     },
     "output_type": "display_data"
    }
   ],
   "source": [
    "#display the confusion matrix\n",
    "cm = confusion_matrix(y_val,y_pred)\n",
    "disp = ConfusionMatrixDisplay(cm)\n",
    "disp.plot()"
   ]
  },
  {
   "cell_type": "code",
   "execution_count": 46,
   "id": "92e3751c",
   "metadata": {},
   "outputs": [
    {
     "name": "stdout",
     "output_type": "stream",
     "text": [
      "              precision    recall  f1-score   support\n",
      "\n",
      "       Legit       1.00      0.98      0.99     56861\n",
      "       Fraud       0.06      0.87      0.12       101\n",
      "\n",
      "    accuracy                           0.98     56962\n",
      "   macro avg       0.53      0.92      0.55     56962\n",
      "weighted avg       1.00      0.98      0.99     56962\n",
      "\n"
     ]
    }
   ],
   "source": [
    "print(classification_report(y_val,y_pred,target_names=['Legit','Fraud']))"
   ]
  },
  {
   "cell_type": "markdown",
   "id": "793ec55f",
   "metadata": {},
   "source": [
    "Naive Bayes possesses excellent recall (87%) but suffers from extremely poor precision (6%), vastly increasing the occurrence of false positives."
   ]
  },
  {
   "cell_type": "markdown",
   "id": "bac43c7b",
   "metadata": {},
   "source": [
    "## ML Candidates"
   ]
  },
  {
   "cell_type": "markdown",
   "id": "b97d1830",
   "metadata": {},
   "source": [
    "The ideal candidates for further tuning are \"Random Forest\" and \"XGBoost\" as these provide the highest recall without substantially impacting the precision."
   ]
  },
  {
   "cell_type": "markdown",
   "id": "5e016107",
   "metadata": {},
   "source": [
    "# Algorithm Tuning"
   ]
  },
  {
   "cell_type": "markdown",
   "id": "7006c690",
   "metadata": {},
   "source": [
    "## Random Forest"
   ]
  },
  {
   "cell_type": "markdown",
   "id": "b27c2032",
   "metadata": {},
   "source": [
    "### Use StratifiedKFold cross validation to a better view of performance"
   ]
  },
  {
   "cell_type": "code",
   "execution_count": 47,
   "id": "4d9ae951",
   "metadata": {},
   "outputs": [],
   "source": [
    "from sklearn.model_selection import StratifiedKFold\n",
    "from sklearn.model_selection import cross_validate\n",
    "from sklearn.model_selection import GridSearchCV"
   ]
  },
  {
   "cell_type": "code",
   "execution_count": 48,
   "id": "8ee67442",
   "metadata": {},
   "outputs": [
    {
     "name": "stderr",
     "output_type": "stream",
     "text": [
      "[Parallel(n_jobs=-1)]: Using backend LokyBackend with 6 concurrent workers.\n",
      "[Parallel(n_jobs=-1)]: Done   3 out of   3 | elapsed:   31.6s finished\n"
     ]
    }
   ],
   "source": [
    "rf_model = RandomForestClassifier(n_estimators=100,random_state=0)\n",
    "cv = StratifiedKFold(n_splits=3,shuffle=True,random_state=0)\n",
    "scoring = ['recall','precision','f1','accuracy']\n",
    "scores = cross_validate(rf_model,X_res,y_res,cv=cv,scoring=scoring,return_train_score=True,verbose=3,n_jobs=-1)"
   ]
  },
  {
   "cell_type": "code",
   "execution_count": 50,
   "id": "c8122755",
   "metadata": {},
   "outputs": [
    {
     "data": {
      "text/plain": [
       "{'fit_time': array([29.27055478, 28.81455302, 29.47855353]),\n",
       " 'score_time': array([0.35602903, 0.34300184, 0.36402655]),\n",
       " 'test_recall': array([0.97795497, 0.97796014, 0.97936694]),\n",
       " 'train_recall': array([1., 1., 1.]),\n",
       " 'test_precision': array([0.99856322, 0.99475316, 0.99594659]),\n",
       " 'train_precision': array([1., 1., 1.]),\n",
       " 'test_f1': array([0.98815166, 0.98628517, 0.98758719]),\n",
       " 'train_f1': array([1., 1., 1.]),\n",
       " 'test_accuracy': array([0.99694162, 0.99645227, 0.9967887 ]),\n",
       " 'train_accuracy': array([1., 1., 1.])}"
      ]
     },
     "execution_count": 50,
     "metadata": {},
     "output_type": "execute_result"
    }
   ],
   "source": [
    "scores"
   ]
  },
  {
   "cell_type": "markdown",
   "id": "26b3006c",
   "metadata": {},
   "source": [
    "These results indicate good performance on the StraifiedKFold of the training data, attaining a maximum 97.8% recall."
   ]
  },
  {
   "cell_type": "markdown",
   "id": "f0af11f9",
   "metadata": {},
   "source": [
    "### Grid Search to Tune the Model"
   ]
  },
  {
   "cell_type": "markdown",
   "id": "0ebbeea4",
   "metadata": {},
   "source": [
    "Grid searches have been performed to tune the model, using a metric of recall to target greater identification of fraud cases."
   ]
  },
  {
   "cell_type": "markdown",
   "id": "e0c7a2a6",
   "metadata": {},
   "source": [
    "<b>Criterion:</b>"
   ]
  },
  {
   "cell_type": "code",
   "execution_count": 55,
   "id": "b1d5d6d0",
   "metadata": {},
   "outputs": [
    {
     "name": "stdout",
     "output_type": "stream",
     "text": [
      "Fitting 3 folds for each of 2 candidates, totalling 6 fits\n"
     ]
    },
    {
     "data": {
      "text/plain": [
       "GridSearchCV(cv=3, estimator=RandomForestClassifier(random_state=0), n_jobs=-1,\n",
       "             param_grid={'criterion': ['gini', 'entropy']}, scoring='recall',\n",
       "             verbose=3)"
      ]
     },
     "execution_count": 55,
     "metadata": {},
     "output_type": "execute_result"
    }
   ],
   "source": [
    "param_grid = {'criterion':['gini','entropy']}\n",
    "rf_1 = GridSearchCV(estimator=rf_model,param_grid=param_grid,scoring='recall',n_jobs=-1,cv=3,verbose=3)\n",
    "rf_1.fit(X_res,y_res)"
   ]
  },
  {
   "cell_type": "code",
   "execution_count": 56,
   "id": "9f664294",
   "metadata": {},
   "outputs": [
    {
     "data": {
      "text/plain": [
       "0.9833516075038107"
      ]
     },
     "execution_count": 56,
     "metadata": {},
     "output_type": "execute_result"
    }
   ],
   "source": [
    "rf_1.best_score_"
   ]
  },
  {
   "cell_type": "code",
   "execution_count": 57,
   "id": "4a5c028f",
   "metadata": {},
   "outputs": [
    {
     "data": {
      "text/plain": [
       "{'criterion': 'entropy'}"
      ]
     },
     "execution_count": 57,
     "metadata": {},
     "output_type": "execute_result"
    }
   ],
   "source": [
    "rf_1.best_params_"
   ]
  },
  {
   "cell_type": "markdown",
   "id": "f189a4a2",
   "metadata": {},
   "source": [
    "<b>Class Weights:</b>"
   ]
  },
  {
   "cell_type": "code",
   "execution_count": 59,
   "id": "c3425db1",
   "metadata": {},
   "outputs": [
    {
     "name": "stdout",
     "output_type": "stream",
     "text": [
      "Fitting 3 folds for each of 4 candidates, totalling 12 fits\n"
     ]
    },
    {
     "data": {
      "text/plain": [
       "GridSearchCV(cv=3, estimator=RandomForestClassifier(criterion='entropy'),\n",
       "             n_jobs=-1,\n",
       "             param_grid={'class_weight': [{0: 1, 1: 8}, {0: 1, 1: 6.667},\n",
       "                                          {0: 1, 1: 6}, None]},\n",
       "             scoring='recall', verbose=3)"
      ]
     },
     "execution_count": 59,
     "metadata": {},
     "output_type": "execute_result"
    }
   ],
   "source": [
    "rf_model = RandomForestClassifier(n_estimators=100,criterion='entropy')\n",
    "param_grid = {'class_weight' : [{0:1,1:8},{0:1,1:6.667},{0:1,1:6},None]}\n",
    "rf_2 = GridSearchCV(estimator=rf_model,param_grid=param_grid,scoring='recall',n_jobs=-1,cv=3,verbose=3)\n",
    "rf_2.fit(X_res,y_res)"
   ]
  },
  {
   "cell_type": "code",
   "execution_count": 60,
   "id": "b5a184ac",
   "metadata": {},
   "outputs": [
    {
     "data": {
      "text/plain": [
       "0.9862434537412378"
      ]
     },
     "execution_count": 60,
     "metadata": {},
     "output_type": "execute_result"
    }
   ],
   "source": [
    "rf_2.best_score_"
   ]
  },
  {
   "cell_type": "code",
   "execution_count": 61,
   "id": "99850bae",
   "metadata": {},
   "outputs": [
    {
     "data": {
      "text/plain": [
       "{'class_weight': {0: 1, 1: 6.667}}"
      ]
     },
     "execution_count": 61,
     "metadata": {},
     "output_type": "execute_result"
    }
   ],
   "source": [
    "rf_2.best_params_"
   ]
  },
  {
   "cell_type": "markdown",
   "id": "de625b4b",
   "metadata": {},
   "source": [
    "<b>Min Samples Split and Min Samples Leaf:</b>"
   ]
  },
  {
   "cell_type": "code",
   "execution_count": 72,
   "id": "a86867a7",
   "metadata": {},
   "outputs": [
    {
     "name": "stdout",
     "output_type": "stream",
     "text": [
      "Fitting 3 folds for each of 9 candidates, totalling 27 fits\n"
     ]
    },
    {
     "data": {
      "text/plain": [
       "GridSearchCV(cv=3,\n",
       "             estimator=RandomForestClassifier(class_weight={0: 1, 1: 6.667},\n",
       "                                              criterion='entropy'),\n",
       "             n_jobs=-1,\n",
       "             param_grid={'min_samples_leaf': [1, 2, 3],\n",
       "                         'min_samples_split': [2, 3, 5]},\n",
       "             scoring='recall', verbose=3)"
      ]
     },
     "execution_count": 72,
     "metadata": {},
     "output_type": "execute_result"
    }
   ],
   "source": [
    "rf_model = RandomForestClassifier(n_estimators=100,criterion='entropy',class_weight={0:1,1:6.667})\n",
    "param_grid = {'min_samples_split' : [2,3,5],'min_samples_leaf' : [1,2,3]}\n",
    "rf_3 = GridSearchCV(estimator=rf_model,param_grid=param_grid,scoring='recall',n_jobs=-1,cv=3,verbose=3)\n",
    "rf_3.fit(X_res,y_res)"
   ]
  },
  {
   "cell_type": "code",
   "execution_count": 73,
   "id": "33ab0eb8",
   "metadata": {},
   "outputs": [
    {
     "data": {
      "text/plain": [
       "0.9875722627052225"
      ]
     },
     "execution_count": 73,
     "metadata": {},
     "output_type": "execute_result"
    }
   ],
   "source": [
    "rf_3.best_score_"
   ]
  },
  {
   "cell_type": "code",
   "execution_count": 74,
   "id": "804bdfa0",
   "metadata": {},
   "outputs": [
    {
     "data": {
      "text/plain": [
       "{'min_samples_leaf': 2, 'min_samples_split': 5}"
      ]
     },
     "execution_count": 74,
     "metadata": {},
     "output_type": "execute_result"
    }
   ],
   "source": [
    "rf_3.best_params_"
   ]
  },
  {
   "cell_type": "markdown",
   "id": "20c2f98d",
   "metadata": {},
   "source": [
    "### Tuned Model"
   ]
  },
  {
   "cell_type": "code",
   "execution_count": 87,
   "id": "3d30e4b0",
   "metadata": {},
   "outputs": [
    {
     "data": {
      "text/plain": [
       "RandomForestClassifier(class_weight={0: 1, 1: 578}, criterion='entropy',\n",
       "                       min_samples_leaf=2, min_samples_split=5,\n",
       "                       n_estimators=200, n_jobs=-1, random_state=0)"
      ]
     },
     "execution_count": 87,
     "metadata": {},
     "output_type": "execute_result"
    }
   ],
   "source": [
    "#Adjust weights for the full dataset case\n",
    "rf_tuned = RandomForestClassifier(n_estimators=200,criterion='entropy',class_weight={0:1,1:578},min_samples_leaf=2,\n",
    "                                  min_samples_split=5,n_jobs=-1,random_state=0)\n",
    "rf_tuned.fit(X_res,y_res)"
   ]
  },
  {
   "cell_type": "code",
   "execution_count": 88,
   "id": "8eb1dc5f",
   "metadata": {},
   "outputs": [
    {
     "name": "stdout",
     "output_type": "stream",
     "text": [
      "Recall: 0.8613861386138614\n",
      "Precision: 0.8055555555555556\n",
      "F1: 0.832535885167464\n"
     ]
    }
   ],
   "source": [
    "#predict test labels and print metrics\n",
    "y_pred = rf_tuned.predict(X_val)\n",
    "\n",
    "recall_rf = recall_score(y_val,y_pred)\n",
    "precision_rf = precision_score(y_val,y_pred)\n",
    "f1_rf = f1_score(y_val,y_pred)\n",
    "\n",
    "print(f'Recall: {recall_rf}\\nPrecision: {precision_rf}\\nF1: {f1_rf}')"
   ]
  },
  {
   "cell_type": "code",
   "execution_count": 89,
   "id": "2cbf1232",
   "metadata": {},
   "outputs": [
    {
     "data": {
      "text/plain": [
       "<sklearn.metrics._plot.confusion_matrix.ConfusionMatrixDisplay at 0x218c4dca760>"
      ]
     },
     "execution_count": 89,
     "metadata": {},
     "output_type": "execute_result"
    },
    {
     "data": {
      "image/png": "[encoded data removed]",
      "text/plain": [
       "<Figure size 432x288 with 2 Axes>"
      ]
     },
     "metadata": {
      "needs_background": "light"
     },
     "output_type": "display_data"
    }
   ],
   "source": [
    "cm = confusion_matrix(y_val,y_pred)\n",
    "disp = ConfusionMatrixDisplay(cm)\n",
    "disp.plot()"
   ]
  },
  {
   "cell_type": "code",
   "execution_count": 90,
   "id": "601b4d5f",
   "metadata": {},
   "outputs": [
    {
     "name": "stdout",
     "output_type": "stream",
     "text": [
      "              precision    recall  f1-score   support\n",
      "\n",
      "       Legit       1.00      1.00      1.00     56861\n",
      "       Fraud       0.81      0.86      0.83       101\n",
      "\n",
      "    accuracy                           1.00     56962\n",
      "   macro avg       0.90      0.93      0.92     56962\n",
      "weighted avg       1.00      1.00      1.00     56962\n",
      "\n"
     ]
    }
   ],
   "source": [
    "print(classification_report(y_val,y_pred,target_names=['Legit','Fraud']))"
   ]
  },
  {
   "cell_type": "markdown",
   "id": "16a2ccbb",
   "metadata": {},
   "source": [
    "### Improvement from Tuning"
   ]
  },
  {
   "cell_type": "markdown",
   "id": "6c64e51d",
   "metadata": {},
   "source": [
    "Untuned - Recall: 86%, Precision: 78%, F1: 82%"
   ]
  },
  {
   "cell_type": "markdown",
   "id": "fe07e7c1",
   "metadata": {},
   "source": [
    "Tuned - Recall: 86%, Precision: 81%, F1: 83%"
   ]
  },
  {
   "cell_type": "markdown",
   "id": "d5d7f46f",
   "metadata": {},
   "source": [
    "Compared to the untuned model, we see no improvements in Fraud Recall.  Fraud Precision has increased 3%, decreasing the number of false positives.  We can adjust the probability limits to detect more fraud cases at the cost of more false postives.  This adjustment depends on the resources available to investigate potential fraud cases within the business."
   ]
  },
  {
   "cell_type": "markdown",
   "id": "c2b1ea40",
   "metadata": {},
   "source": [
    "## XGBoost"
   ]
  },
  {
   "cell_type": "code",
   "execution_count": 156,
   "id": "7590316d",
   "metadata": {},
   "outputs": [],
   "source": [
    "#define the model to be tuned\n",
    "xgb_tune = xgb.XGBClassifier(learning_rate=0.02, n_estimators=600, objective='binary:logistic',nthread=1,\n",
    "                             predictor='gpu_predictor',tree_method='gpu_hist')"
   ]
  },
  {
   "cell_type": "code",
   "execution_count": 157,
   "id": "8f1083fa",
   "metadata": {},
   "outputs": [
    {
     "name": "stdout",
     "output_type": "stream",
     "text": [
      "Fitting 5 folds for each of 50 candidates, totalling 250 fits\n"
     ]
    },
    {
     "data": {
      "text/plain": [
       "RandomizedSearchCV(cv=5,\n",
       "                   estimator=XGBClassifier(base_score=None, booster=None,\n",
       "                                           callbacks=None,\n",
       "                                           colsample_bylevel=None,\n",
       "                                           colsample_bynode=None,\n",
       "                                           colsample_bytree=None,\n",
       "                                           early_stopping_rounds=None,\n",
       "                                           enable_categorical=False,\n",
       "                                           eval_metric=None, gamma=None,\n",
       "                                           gpu_id=None, grow_policy=None,\n",
       "                                           importance_type=None,\n",
       "                                           interaction_constraints=None,\n",
       "                                           learning_rate=0.02, max_bin=None,...\n",
       "                                           n_estimators=600, n_jobs=None,\n",
       "                                           nthread=1, num_parallel_tree=None,\n",
       "                                           predictor='gpu_predictor',\n",
       "                                           random_state=None, reg_alpha=None, ...),\n",
       "                   n_iter=50, n_jobs=-1,\n",
       "                   param_distributions={'colsample_bytree': [0.6, 0.8, 1.0],\n",
       "                                        'gamma': [0.5, 1, 1.5, 2, 5],\n",
       "                                        'max_depth': [3, 4, 5],\n",
       "                                        'min_child_weight': [1, 5, 10],\n",
       "                                        'scale_pos_weight': [1, 5, 6.677, 8,\n",
       "                                                             10],\n",
       "                                        'subsample': [0.6, 0.8, 1.0]},\n",
       "                   scoring='recall', verbose=4)"
      ]
     },
     "execution_count": 157,
     "metadata": {},
     "output_type": "execute_result"
    }
   ],
   "source": [
    "#Use Randomized Search to tune the model w.r.t. precision\n",
    "from sklearn.model_selection import RandomizedSearchCV\n",
    "random_grid = {\n",
    "        'min_child_weight': [1, 5, 10],\n",
    "        'gamma': [0.5, 1, 1.5, 2, 5],\n",
    "        'subsample': [0.6, 0.8, 1.0],\n",
    "        'colsample_bytree': [0.6, 0.8, 1.0],\n",
    "        'max_depth': [3, 4, 5],\n",
    "        'scale_pos_weight':[1,5,6.677,8,10]\n",
    "        }\n",
    "\n",
    "xgb_rand = RandomizedSearchCV(estimator=xgb_tune,param_distributions=random_grid,n_iter=50,cv=5,verbose=4,\n",
    "                              n_jobs=-1,scoring='recall')\n",
    "#Train the model\n",
    "xgb_rand.fit(X_res,y_res)"
   ]
  },
  {
   "cell_type": "code",
   "execution_count": 158,
   "id": "ed476adc",
   "metadata": {},
   "outputs": [
    {
     "data": {
      "text/plain": [
       "0.997655120241274"
      ]
     },
     "execution_count": 158,
     "metadata": {},
     "output_type": "execute_result"
    }
   ],
   "source": [
    "xgb_rand.best_score_"
   ]
  },
  {
   "cell_type": "code",
   "execution_count": 159,
   "id": "7f8db095",
   "metadata": {},
   "outputs": [
    {
     "data": {
      "text/plain": [
       "{'subsample': 0.8,\n",
       " 'scale_pos_weight': 10,\n",
       " 'min_child_weight': 5,\n",
       " 'max_depth': 5,\n",
       " 'gamma': 0.5,\n",
       " 'colsample_bytree': 0.8}"
      ]
     },
     "execution_count": 159,
     "metadata": {},
     "output_type": "execute_result"
    }
   ],
   "source": [
    "xgb_rand.best_params_"
   ]
  },
  {
   "cell_type": "markdown",
   "id": "5dd4d635",
   "metadata": {},
   "source": [
    "Randomised search results hit the maximum scale_pos_weight and max_depth. This encourages further investigation via GridSearchCV."
   ]
  },
  {
   "cell_type": "markdown",
   "id": "88c145b0",
   "metadata": {},
   "source": [
    "### Grid Search Scale Postive Weight and Max Depth"
   ]
  },
  {
   "cell_type": "code",
   "execution_count": 183,
   "id": "acda8cd7",
   "metadata": {},
   "outputs": [
    {
     "name": "stdout",
     "output_type": "stream",
     "text": [
      "Fitting 5 folds for each of 8 candidates, totalling 40 fits\n"
     ]
    },
    {
     "data": {
      "text/plain": [
       "GridSearchCV(cv=5,\n",
       "             estimator=XGBClassifier(base_score=None, booster=None,\n",
       "                                     callbacks=None, colsample_bylevel=None,\n",
       "                                     colsample_bynode=None,\n",
       "                                     colsample_bytree=0.8,\n",
       "                                     early_stopping_rounds=None,\n",
       "                                     enable_categorical=False, eval_metric=None,\n",
       "                                     gamma=0.5, gpu_id=None, grow_policy=None,\n",
       "                                     importance_type=None,\n",
       "                                     interaction_constraints=None,\n",
       "                                     learning_rate=0.02, max_bin=None,\n",
       "                                     max_cat_to_onehot=None,\n",
       "                                     max_delta_step=None, max_depth=None,\n",
       "                                     max_leaves=None, min_child_weight=5,\n",
       "                                     missing=nan, monotone_constraints=None,\n",
       "                                     n_estimators=600, n_jobs=None, nthread=1,\n",
       "                                     num_parallel_tree=None,\n",
       "                                     predictor='gpu_predictor',\n",
       "                                     random_state=None, reg_alpha=None, ...),\n",
       "             n_jobs=-1,\n",
       "             param_grid={'max_depth': [5, 10],\n",
       "                         'scale_pos_weight': [10, 20, 30, 40]},\n",
       "             scoring='recall', verbose=3)"
      ]
     },
     "execution_count": 183,
     "metadata": {},
     "output_type": "execute_result"
    }
   ],
   "source": [
    "#Declare intermediate XGB CLassifier from randomized search results\n",
    "xgb_int = xgb.XGBClassifier(learning_rate=0.02, n_estimators=600, objective='binary:logistic',\n",
    "    nthread=1,predictor='gpu_predictor',tree_method='gpu_hist',subsample=0.8,min_child_weight=5\n",
    "                            ,gamma=0.5,colsample_bytree=0.8)\n",
    "#Define search grid for scale_pos_weight\n",
    "param_grid = {'scale_pos_weight':[10,20,30,40],'max_depth':[5,10]}\n",
    "\n",
    "#Use Grid Search to identify the best performing scaling and max_depth\n",
    "xgb_grid = GridSearchCV(estimator=xgb_int,param_grid=param_grid,scoring='recall',n_jobs=-1,cv=5,verbose=3)\n",
    "xgb_grid.fit(X_res,y_res)\n",
    "\n"
   ]
  },
  {
   "cell_type": "code",
   "execution_count": 184,
   "id": "2012509b",
   "metadata": {},
   "outputs": [
    {
     "data": {
      "text/plain": [
       "0.9996873778819853"
      ]
     },
     "execution_count": 184,
     "metadata": {},
     "output_type": "execute_result"
    }
   ],
   "source": [
    "xgb_grid.best_score_"
   ]
  },
  {
   "cell_type": "code",
   "execution_count": 185,
   "id": "7bbc93ff",
   "metadata": {},
   "outputs": [
    {
     "data": {
      "text/plain": [
       "{'max_depth': 5, 'scale_pos_weight': 40}"
      ]
     },
     "execution_count": 185,
     "metadata": {},
     "output_type": "execute_result"
    }
   ],
   "source": [
    "xgb_grid.best_params_"
   ]
  },
  {
   "cell_type": "markdown",
   "id": "e5f7c016",
   "metadata": {},
   "source": [
    "### Tuned Model"
   ]
  },
  {
   "cell_type": "markdown",
   "id": "774e7fca",
   "metadata": {},
   "source": [
    "### Case #1: scale_pos_weight=40"
   ]
  },
  {
   "cell_type": "code",
   "execution_count": 192,
   "id": "7e9477f3",
   "metadata": {},
   "outputs": [
    {
     "data": {
      "text/plain": [
       "XGBClassifier(base_score=0.5, booster='gbtree', callbacks=None,\n",
       "              colsample_bylevel=1, colsample_bynode=1, colsample_bytree=0.8,\n",
       "              early_stopping_rounds=None, enable_categorical=False,\n",
       "              eval_metric=None, gamma=0.5, gpu_id=0, grow_policy='depthwise',\n",
       "              importance_type=None, interaction_constraints='',\n",
       "              learning_rate=0.02, max_bin=256, max_cat_to_onehot=4,\n",
       "              max_delta_step=0, max_depth=5, max_leaves=0, min_child_weight=5,\n",
       "              missing=nan, monotone_constraints='()', n_estimators=600,\n",
       "              n_jobs=1, nthread=1, num_parallel_tree=1,\n",
       "              predictor='gpu_predictor', random_state=0, reg_alpha=0, ...)"
      ]
     },
     "execution_count": 192,
     "metadata": {},
     "output_type": "execute_result"
    }
   ],
   "source": [
    "xgb_best = xgb.XGBClassifier(learning_rate=0.02, n_estimators=600, objective='binary:logistic',\n",
    "    nthread=1,predictor='gpu_predictor',tree_method='gpu_hist',subsample=0.8,scale_pos_weight=40,min_child_weight=5,\n",
    "    max_depth=5,gamma=0.5,colsample_bytree=0.8)\n",
    "xgb_best.fit(X_train,y_train)"
   ]
  },
  {
   "cell_type": "code",
   "execution_count": 193,
   "id": "923a086c",
   "metadata": {},
   "outputs": [
    {
     "name": "stdout",
     "output_type": "stream",
     "text": [
      "Recall: 0.8613861386138614\n",
      "Precision: 0.75\n",
      "F1: 0.8018433179723503\n"
     ]
    }
   ],
   "source": [
    "y_pred = xgb_best.predict(X_val)\n",
    "\n",
    "recall_xgb_best = recall_score(y_val,y_pred)\n",
    "precision_xgb_best = precision_score(y_val,y_pred)\n",
    "f1_xgb_best = f1_score(y_val,y_pred)\n",
    "\n",
    "print(f'Recall: {recall_xgb_best}\\nPrecision: {precision_xgb_best}\\nF1: {f1_xgb_best}')"
   ]
  },
  {
   "cell_type": "markdown",
   "id": "6540cdf9",
   "metadata": {},
   "source": [
    "### Confusion Matrix"
   ]
  },
  {
   "cell_type": "code",
   "execution_count": 194,
   "id": "70339d2a",
   "metadata": {},
   "outputs": [
    {
     "data": {
      "text/plain": [
       "<sklearn.metrics._plot.confusion_matrix.ConfusionMatrixDisplay at 0x218d83b5a00>"
      ]
     },
     "execution_count": 194,
     "metadata": {},
     "output_type": "execute_result"
    },
    {
     "data": {
      "image/png": "[encoded data removed]",
      "text/plain": [
       "<Figure size 432x288 with 2 Axes>"
      ]
     },
     "metadata": {
      "needs_background": "light"
     },
     "output_type": "display_data"
    }
   ],
   "source": [
    "cm = confusion_matrix(y_val,y_pred)\n",
    "disp = ConfusionMatrixDisplay(cm)\n",
    "disp.plot()"
   ]
  },
  {
   "cell_type": "code",
   "execution_count": 195,
   "id": "3df60942",
   "metadata": {},
   "outputs": [
    {
     "name": "stdout",
     "output_type": "stream",
     "text": [
      "              precision    recall  f1-score   support\n",
      "\n",
      "       Legit       1.00      1.00      1.00     56861\n",
      "       Fraud       0.75      0.86      0.80       101\n",
      "\n",
      "    accuracy                           1.00     56962\n",
      "   macro avg       0.87      0.93      0.90     56962\n",
      "weighted avg       1.00      1.00      1.00     56962\n",
      "\n"
     ]
    }
   ],
   "source": [
    "print(classification_report(y_val,y_pred,target_names=['Legit','Fraud']))"
   ]
  },
  {
   "cell_type": "markdown",
   "id": "6363ee9b",
   "metadata": {},
   "source": [
    "### Case #2:  scale_pos_weight=30"
   ]
  },
  {
   "cell_type": "code",
   "execution_count": 196,
   "id": "8a933424",
   "metadata": {},
   "outputs": [
    {
     "data": {
      "text/plain": [
       "XGBClassifier(base_score=0.5, booster='gbtree', callbacks=None,\n",
       "              colsample_bylevel=1, colsample_bynode=1, colsample_bytree=0.8,\n",
       "              early_stopping_rounds=None, enable_categorical=False,\n",
       "              eval_metric=None, gamma=0.5, gpu_id=0, grow_policy='depthwise',\n",
       "              importance_type=None, interaction_constraints='',\n",
       "              learning_rate=0.02, max_bin=256, max_cat_to_onehot=4,\n",
       "              max_delta_step=0, max_depth=5, max_leaves=0, min_child_weight=5,\n",
       "              missing=nan, monotone_constraints='()', n_estimators=600,\n",
       "              n_jobs=1, nthread=1, num_parallel_tree=1,\n",
       "              predictor='gpu_predictor', random_state=0, reg_alpha=0, ...)"
      ]
     },
     "execution_count": 196,
     "metadata": {},
     "output_type": "execute_result"
    }
   ],
   "source": [
    "xgb_best = xgb.XGBClassifier(learning_rate=0.02, n_estimators=600, objective='binary:logistic',\n",
    "    nthread=1,predictor='gpu_predictor',tree_method='gpu_hist',subsample=0.8,scale_pos_weight=30,min_child_weight=5,\n",
    "    max_depth=5,gamma=0.5,colsample_bytree=0.8)\n",
    "xgb_best.fit(X_train,y_train)"
   ]
  },
  {
   "cell_type": "code",
   "execution_count": 197,
   "id": "f3bd42b2",
   "metadata": {},
   "outputs": [
    {
     "name": "stdout",
     "output_type": "stream",
     "text": [
      "Recall: 0.8613861386138614\n",
      "Precision: 0.7699115044247787\n",
      "F1: 0.8130841121495327\n"
     ]
    }
   ],
   "source": [
    "y_pred = xgb_best.predict(X_val)\n",
    "\n",
    "recall_xgb_best = recall_score(y_val,y_pred)\n",
    "precision_xgb_best = precision_score(y_val,y_pred)\n",
    "f1_xgb_best = f1_score(y_val,y_pred)\n",
    "\n",
    "print(f'Recall: {recall_xgb_best}\\nPrecision: {precision_xgb_best}\\nF1: {f1_xgb_best}')"
   ]
  },
  {
   "cell_type": "code",
   "execution_count": 198,
   "id": "735e82c5",
   "metadata": {},
   "outputs": [
    {
     "data": {
      "text/plain": [
       "<sklearn.metrics._plot.confusion_matrix.ConfusionMatrixDisplay at 0x218d8575e80>"
      ]
     },
     "execution_count": 198,
     "metadata": {},
     "output_type": "execute_result"
    },
    {
     "data": {
      "image/png": "[encoded data removed]",
      "text/plain": [
       "<Figure size 432x288 with 2 Axes>"
      ]
     },
     "metadata": {
      "needs_background": "light"
     },
     "output_type": "display_data"
    }
   ],
   "source": [
    "cm = confusion_matrix(y_val,y_pred)\n",
    "disp = ConfusionMatrixDisplay(cm)\n",
    "disp.plot()"
   ]
  },
  {
   "cell_type": "code",
   "execution_count": 199,
   "id": "f9743072",
   "metadata": {},
   "outputs": [
    {
     "name": "stdout",
     "output_type": "stream",
     "text": [
      "              precision    recall  f1-score   support\n",
      "\n",
      "       Legit       1.00      1.00      1.00     56861\n",
      "       Fraud       0.77      0.86      0.81       101\n",
      "\n",
      "    accuracy                           1.00     56962\n",
      "   macro avg       0.88      0.93      0.91     56962\n",
      "weighted avg       1.00      1.00      1.00     56962\n",
      "\n"
     ]
    }
   ],
   "source": [
    "print(classification_report(y_val,y_pred,target_names=['Legit','Fraud']))"
   ]
  },
  {
   "cell_type": "markdown",
   "id": "da3163e1",
   "metadata": {},
   "source": [
    "### Remarks:  "
   ]
  },
  {
   "cell_type": "markdown",
   "id": "3fddf9a2",
   "metadata": {},
   "source": [
    "While using scale_pos_weight=40 attained the highest recall in the grid seach, the testing data indicates no improvement in recall and a decrease in the precision (scale_pos_weight=30 -> precision=77%,scale_pos_weight=40 -> precision=75%).  This indicates overfitting for the scaling=40 case, so scalling=30 is accepted as the best model."
   ]
  },
  {
   "cell_type": "markdown",
   "id": "4c99df40",
   "metadata": {},
   "source": [
    "### Improvement from Tuning"
   ]
  },
  {
   "cell_type": "markdown",
   "id": "2b2d8187",
   "metadata": {},
   "source": [
    "Untuned - Recall: 85%, Precision: 74%, F1: 79% "
   ]
  },
  {
   "cell_type": "markdown",
   "id": "f2116e1d",
   "metadata": {},
   "source": [
    "Tuned - Recall: 86%, Precision: 77%, F1: 81% "
   ]
  },
  {
   "cell_type": "markdown",
   "id": "2c5fbb58",
   "metadata": {},
   "source": [
    "By tuning the XGBClassifier, we have improved the precision of the model and slightly improved the recall of the model.  This suggests less company resources will be wasted investigating flagged legitimate transactions.  "
   ]
  },
  {
   "cell_type": "markdown",
   "id": "c174af03",
   "metadata": {},
   "source": [
    "# Comparing the Two Final Models"
   ]
  },
  {
   "cell_type": "markdown",
   "id": "2b1ed9d7",
   "metadata": {},
   "source": [
    "<b>Random Forest</b> - Recall: 86%, Precision: 81%, F1: 83%"
   ]
  },
  {
   "cell_type": "markdown",
   "id": "96d62142",
   "metadata": {},
   "source": [
    "<b>XGBoost</b> - Recall: 86%, Precision: 77%, F1: 81%"
   ]
  },
  {
   "cell_type": "markdown",
   "id": "2dbe4f1b",
   "metadata": {},
   "source": [
    "Of the two models, both demonstrate the same ability to correctly label fraudulent transactions (recall) from the test set.  However, the Random Forest Classifier demonstrates 4% higher precision, and hence does not produce as many false postives as the XGBoost model.  These indicators lead us to conclude the Random Forest Classifer is the best model."
   ]
  }
 ],
 "metadata": {
  "kernelspec": {
   "display_name": "Python 3",
   "language": "python",
   "name": "python3"
  },
  "language_info": {
   "codemirror_mode": {
    "name": "ipython",
    "version": 3
   },
   "file_extension": ".py",
   "mimetype": "text/x-python",
   "name": "python",
   "nbconvert_exporter": "python",
   "pygments_lexer": "ipython3",
   "version": "3.8.8"
  }
 },
 "nbformat": 4,
 "nbformat_minor": 5
}
